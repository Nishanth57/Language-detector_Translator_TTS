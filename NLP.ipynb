{
 "cells": [
  {
   "cell_type": "code",
   "execution_count": 1,
   "id": "59cc0a16",
   "metadata": {},
   "outputs": [],
   "source": [
    "from translate import Translator\n",
    "import easyocr\n",
    "from gtts import gTTS\n",
    "from IPython.display import Audio"
   ]
  },
  {
   "cell_type": "code",
   "execution_count": 2,
   "id": "755a1bff",
   "metadata": {},
   "outputs": [],
   "source": [
    "%%capture --no-display \n",
    "import pickle\n",
    "import string\n",
    "\n",
    "Lrfile = open('model.pckl','rb')\n",
    "Model = pickle.load(Lrfile)\n",
    "Lrfile.close()"
   ]
  },
  {
   "cell_type": "code",
   "execution_count": 9,
   "id": "c7b75d83",
   "metadata": {},
   "outputs": [
    {
     "name": "stdout",
     "output_type": "stream",
     "text": [
      "Enter the sentence to Translate: Thankyou so much\n"
     ]
    }
   ],
   "source": [
    "sentence=input('Enter the sentence to Translate: ')"
   ]
  },
  {
   "cell_type": "code",
   "execution_count": 10,
   "id": "c7c202d1",
   "metadata": {},
   "outputs": [
    {
     "data": {
      "text/plain": [
       "'English'"
      ]
     },
     "execution_count": 10,
     "metadata": {},
     "output_type": "execute_result"
    }
   ],
   "source": [
    "lang=Model.predict([sentence])\n",
    "lang[0]"
   ]
  },
  {
   "cell_type": "code",
   "execution_count": 11,
   "id": "35f96dd9",
   "metadata": {},
   "outputs": [
    {
     "name": "stdout",
     "output_type": "stream",
     "text": [
      "Enter the language to translate: Japanese\n"
     ]
    }
   ],
   "source": [
    "dll=input(\"Enter the language to translate: \")"
   ]
  },
  {
   "cell_type": "code",
   "execution_count": 12,
   "id": "ac3f2758",
   "metadata": {},
   "outputs": [],
   "source": [
    "if dll=='English':\n",
    "    dl='en'\n",
    "elif dll=='Spanish':\n",
    "    dl=\"es\"\n",
    "elif dll=='Tamil':\n",
    "    dl='ta'\n",
    "elif dll=='Georgian':\n",
    "    dl='ka'\n",
    "elif dll=='French':\n",
    "    dl='fr'\n",
    "elif dll=='Hindi':\n",
    "    dl='hi'\n",
    "elif dll=='German':\n",
    "    dl=\"de\"\n",
    "elif dll=='Japanese':\n",
    "    dl=\"ja\"\n",
    "elif dll=='Portuguese':\n",
    "    dl=\"pt\"\n",
    "elif dll=='Malayalam':\n",
    "    dl=\"ml\"\n",
    "elif dll=='Urdu':\n",
    "    dl=\"ur\"\n",
    "elif dll=='Chinese':\n",
    "    dl=\"zh\"\n",
    "else:\n",
    "    dl='en'"
   ]
  },
  {
   "cell_type": "code",
   "execution_count": 13,
   "id": "f3927718",
   "metadata": {},
   "outputs": [
    {
     "name": "stdout",
     "output_type": "stream",
     "text": [
      "Translating from: English --> Japanese\n"
     ]
    }
   ],
   "source": [
    "print(\"Translating from: \"+lang[0],\"--> \"+dll)"
   ]
  },
  {
   "cell_type": "code",
   "execution_count": 14,
   "id": "6f8fd236",
   "metadata": {},
   "outputs": [
    {
     "name": "stdout",
     "output_type": "stream",
     "text": [
      "Translation: どうもありがとうございます\n"
     ]
    }
   ],
   "source": [
    "# ['mymemory', 'microsoft', 'deepl', 'libre']\n",
    "translator = Translator(to_lang=dl)\n",
    "\n",
    "#translate the senetence\n",
    "translation = translator.translate(sentence)\n",
    "\n",
    "# print the translated sentence\n",
    "print(f\"Translation: {translation}\")"
   ]
  },
  {
   "cell_type": "code",
   "execution_count": 15,
   "id": "26713d15",
   "metadata": {},
   "outputs": [
    {
     "data": {
      "text/html": [
       "\n",
       "                <audio  controls=\"controls\" autoplay=\"autoplay\">\n",
       "                    <source src=\"data:audio/mpeg;base64,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\" type=\"audio/mpeg\" />\n",
       "                    Your browser does not support the audio element.\n",
       "                </audio>\n",
       "              "
      ],
      "text/plain": [
       "<IPython.lib.display.Audio object>"
      ]
     },
     "execution_count": 15,
     "metadata": {},
     "output_type": "execute_result"
    }
   ],
   "source": [
    "ta_tts=gTTS('In'+lang[0]+sentence)\n",
    "ta_tts.save('trans1.mp3')\n",
    "Audio('trans1.mp3' , autoplay=True)"
   ]
  },
  {
   "cell_type": "code",
   "execution_count": 16,
   "id": "25ec7bb1",
   "metadata": {},
   "outputs": [
    {
     "data": {
      "text/html": [
       "\n",
       "                <audio  controls=\"controls\" autoplay=\"autoplay\">\n",
       "                    <source src=\"data:audio/mpeg;base64,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\" type=\"audio/mpeg\" />\n",
       "                    Your browser does not support the audio element.\n",
       "                </audio>\n",
       "              "
      ],
      "text/plain": [
       "<IPython.lib.display.Audio object>"
      ]
     },
     "execution_count": 16,
     "metadata": {},
     "output_type": "execute_result"
    }
   ],
   "source": [
    "ta_tts=gTTS('In'+dll+translation)\n",
    "ta_tts.save('trans.mp3')\n",
    "Audio('trans.mp3' , autoplay=True)"
   ]
  },
  {
   "cell_type": "markdown",
   "id": "370eb6e9",
   "metadata": {},
   "source": [
    "## Language dection from Images"
   ]
  },
  {
   "cell_type": "code",
   "execution_count": 17,
   "id": "31b94d72",
   "metadata": {},
   "outputs": [],
   "source": [
    "import easyocr"
   ]
  },
  {
   "cell_type": "markdown",
   "id": "55aa068d",
   "metadata": {},
   "source": [
    "#images to import\n",
    "'sign.jpg'\n",
    "'sig1.jpeg'\n",
    "'sign4.jpg'\n",
    "'sign3.jpg'\n",
    "'sign6.jpg'\n",
    "'sign7.jpg and sign8.jpg' only language detection\n",
    "\n",
    "\n"
   ]
  },
  {
   "cell_type": "code",
   "execution_count": 19,
   "id": "95f58654",
   "metadata": {},
   "outputs": [
    {
     "data": {
      "text/plain": [
       "'Now Pay'"
      ]
     },
     "execution_count": 19,
     "metadata": {},
     "output_type": "execute_result"
    }
   ],
   "source": [
    "# Load the image\n",
    "reader = easyocr.Reader(['en','kn'])  # You can add more languages here\n",
    "input_im='sign.jpg'\n",
    "with open(input_im, 'rb') as image_file:\n",
    "    image = image_file.read()\n",
    "\n",
    "# Perform OCR on the image\n",
    "results = reader.readtext(image)\n",
    "\n",
    "# Extract the text from the results\n",
    "text = ' '.join([result[1] for result in results])\n",
    "\n",
    "# Split the extracted text into words\n",
    "words = text.split()\n",
    "\n",
    "# Print the extracted words\n",
    "#for word in words:\n",
    "   # print(word)\n",
    "sentence=text\n",
    "sentence"
   ]
  },
  {
   "cell_type": "code",
   "execution_count": 20,
   "id": "98e8a696",
   "metadata": {},
   "outputs": [
    {
     "data": {
      "text/plain": [
       "(-0.5, 611.5, 611.5, -0.5)"
      ]
     },
     "execution_count": 20,
     "metadata": {},
     "output_type": "execute_result"
    },
    {
     "data": {
      "image/png": "[encoded data removed]",
      "text/plain": [
       "<Figure size 432x288 with 1 Axes>"
      ]
     },
     "metadata": {
      "needs_background": "light"
     },
     "output_type": "display_data"
    }
   ],
   "source": [
    "import matplotlib.pyplot as plt\n",
    "import matplotlib.image as img\n",
    "\n",
    "# reading the image\n",
    "testImage = img.imread(input_im)\n",
    "\n",
    "# displaying the image\n",
    "plt.imshow(testImage)\n",
    "plt.axis('off')\n"
   ]
  },
  {
   "cell_type": "code",
   "execution_count": 25,
   "id": "5853b874",
   "metadata": {},
   "outputs": [
    {
     "name": "stdout",
     "output_type": "stream",
     "text": [
      "Sentence: Now Pay: Language: English\n"
     ]
    }
   ],
   "source": [
    "lang=Model.predict([sentence])\n",
    "print(\"Sentence: \"+sentence+\": Language: \" +lang[0])"
   ]
  },
  {
   "cell_type": "code",
   "execution_count": 26,
   "id": "8cd45000",
   "metadata": {},
   "outputs": [
    {
     "name": "stdout",
     "output_type": "stream",
     "text": [
      "Enter the language to translate: Spanish\n"
     ]
    }
   ],
   "source": [
    "dll=input(\"Enter the language to translate: \")\n",
    "if dll=='English':\n",
    "    dl='en'\n",
    "elif dll=='Spanish':\n",
    "    dl=\"es\"\n",
    "elif dll=='Tamil':\n",
    "    dl='ta'\n",
    "elif dll=='Kannad':\n",
    "    dl='kn'\n",
    "elif dll=='French':\n",
    "    dl='fr'\n",
    "elif dll=='Hindi':\n",
    "    dl='hi'\n",
    "elif dll=='German':\n",
    "    dl=\"de\"\n",
    "elif dll=='Japanese':\n",
    "    dl=\"ja\"\n",
    "elif dll=='Portuguese':\n",
    "    dl=\"pt\"\n",
    "elif dll=='Malayalam':\n",
    "    dl=\"ml\"\n",
    "elif dll=='Urdu':\n",
    "    dl=\"ur\"\n",
    "elif dll=='Chinese':\n",
    "    dl=\"zh\"\n",
    "else:\n",
    "    dl='en'"
   ]
  },
  {
   "cell_type": "code",
   "execution_count": 27,
   "id": "78572c82",
   "metadata": {},
   "outputs": [
    {
     "name": "stdout",
     "output_type": "stream",
     "text": [
      "Translating from: English --> Spanish\n"
     ]
    }
   ],
   "source": [
    "print(\"Translating from: \"+lang[0],\"--> \"+dll)"
   ]
  },
  {
   "cell_type": "code",
   "execution_count": 28,
   "id": "e202247f",
   "metadata": {},
   "outputs": [
    {
     "name": "stdout",
     "output_type": "stream",
     "text": [
      "Translation: Pagar ahora\n"
     ]
    }
   ],
   "source": [
    "translator = Translator(to_lang=dl)\n",
    "\n",
    "#translate the senetence\n",
    "translation = translator.translate(sentence)\n",
    "\n",
    "# print the translated sentence\n",
    "print(f\"Translation: {translation}\")"
   ]
  }
 ],
 "metadata": {
  "kernelspec": {
   "display_name": "Python 3 (ipykernel)",
   "language": "python",
   "name": "python3"
  },
  "language_info": {
   "codemirror_mode": {
    "name": "ipython",
    "version": 3
   },
   "file_extension": ".py",
   "mimetype": "text/x-python",
   "name": "python",
   "nbconvert_exporter": "python",
   "pygments_lexer": "ipython3",
   "version": "3.9.7"
  }
 },
 "nbformat": 4,
 "nbformat_minor": 5
}
